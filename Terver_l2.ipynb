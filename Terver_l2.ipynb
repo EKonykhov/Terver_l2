{
 "cells": [
  {
   "cell_type": "code",
   "execution_count": 3,
   "id": "891a6be5",
   "metadata": {},
   "outputs": [
    {
     "name": "stdout",
     "output_type": "stream",
     "text": [
      "0.048061793700746556\n"
     ]
    }
   ],
   "source": [
    "from math import factorial\n",
    "from math import e\n",
    "\n",
    "#1\n",
    "\n",
    "p,q,k,n = 0.8,0.2,85,100\n",
    "\n",
    "f = factorial(n) / (factorial(k)*factorial(n-k)) * p**k * q**(n-k)\n",
    "\n",
    "print(f)"
   ]
  },
  {
   "cell_type": "code",
   "execution_count": 7,
   "id": "cfde0d93",
   "metadata": {},
   "outputs": [
    {
     "name": "stdout",
     "output_type": "stream",
     "text": [
      "0.1353352832366127 0.2706705664732254\n"
     ]
    }
   ],
   "source": [
    "#2\n",
    "\n",
    "p1,n1,m0,m2 = 0.0004,5000,0,2\n",
    "\n",
    "print (((p1 * n1)**m0 / factorial(m0)) * e**(p1 * n1 * -1), \n",
    "       ((p1 * n1)**m2 / factorial(m2)) * e**(p1 * n1 * -1))"
   ]
  },
  {
   "cell_type": "code",
   "execution_count": 2,
   "id": "11fdb4a8",
   "metadata": {},
   "outputs": [
    {
     "name": "stdout",
     "output_type": "stream",
     "text": [
      "0.06281178035144776\n"
     ]
    }
   ],
   "source": [
    "#3\n",
    "\n",
    "p2,q2,k2,n2 = 0.5,0.5,70,144\n",
    "\n",
    "f2 = factorial(n2) / (factorial(k2)*factorial(n2-k2)) * p2**k2 * q2**(n2-k2)\n",
    "\n",
    "print(f2)"
   ]
  },
  {
   "cell_type": "code",
   "execution_count": 9,
   "id": "b81b923b",
   "metadata": {},
   "outputs": [
    {
     "name": "stdout",
     "output_type": "stream",
     "text": [
      "0.3054545454545455\n"
     ]
    }
   ],
   "source": [
    "#4.1\n",
    "\n",
    "def c (x,y):\n",
    "    return factorial(x) / (factorial(y)*factorial(x-y))\n",
    "\n",
    "print(c(7,2) / c(10,2) * c(9,2) / c(11,2))"
   ]
  },
  {
   "cell_type": "code",
   "execution_count": 32,
   "id": "207951cd",
   "metadata": {},
   "outputs": [
    {
     "name": "stdout",
     "output_type": "stream",
     "text": [
      "0.008484848484848486 0.04363636363636363 0.15272727272727274\n",
      "0.20484848484848486\n"
     ]
    }
   ],
   "source": [
    "#4.2\n",
    "\n",
    "f5 = c(7,2) / c(10,2) * c(2,2) / c(11,2)\n",
    "f6 = c(3,2) / c(10,2) * c(9,2) / c(11,2)\n",
    "f7 = c(7,1) * c(3,1) / c(10,2) * c(9,1) * c(2,1) / c(11,2)\n",
    "\n",
    "print(f5, f6, f7)\n",
    "print(f5 + f6 + f7)"
   ]
  },
  {
   "cell_type": "code",
   "execution_count": 37,
   "id": "bf946b02",
   "metadata": {},
   "outputs": [
    {
     "name": "stdout",
     "output_type": "stream",
     "text": [
      "0.9987878787878788\n"
     ]
    }
   ],
   "source": [
    "#4.3\n",
    "\n",
    "print(1 - (c(3,2) / c(10,2) * c(2,2) / c(11,2)))"
   ]
  }
 ],
 "metadata": {
  "kernelspec": {
   "display_name": "Python 3",
   "language": "python",
   "name": "python3"
  },
  "language_info": {
   "codemirror_mode": {
    "name": "ipython",
    "version": 3
   },
   "file_extension": ".py",
   "mimetype": "text/x-python",
   "name": "python",
   "nbconvert_exporter": "python",
   "pygments_lexer": "ipython3",
   "version": "3.7.3"
  }
 },
 "nbformat": 4,
 "nbformat_minor": 5
}
